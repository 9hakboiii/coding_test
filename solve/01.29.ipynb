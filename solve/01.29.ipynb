{
 "cells": [
  {
   "cell_type": "code",
   "execution_count": 1,
   "metadata": {},
   "outputs": [
    {
     "name": "stdout",
     "output_type": "stream",
     "text": [
      "-1\n"
     ]
    }
   ],
   "source": [
    "def solution(n, control):\n",
    "    for i in control:\n",
    "        if i == 'w':\n",
    "            n += 1\n",
    "        elif i == 's':\n",
    "            n -= 1\n",
    "        elif i == 'd':\n",
    "            n += 10\n",
    "        elif i == 'a':\n",
    "            n -= 10\n",
    "        else:\n",
    "            return False\n",
    "    \n",
    "    return n\n",
    "\n",
    "print(solution(0, \"wsdawsdassw\"))\n",
    "        \n",
    "def sol(n, control):\n",
    "    key = dict(zip(['w', 's', 'd', 'a'], [1, -1, 10, -10]))\n",
    "    return n + sum([key[i] for i in control])\n",
    "\n"
   ]
  }
 ],
 "metadata": {
  "kernelspec": {
   "display_name": "env_django",
   "language": "python",
   "name": "python3"
  },
  "language_info": {
   "codemirror_mode": {
    "name": "ipython",
    "version": 3
   },
   "file_extension": ".py",
   "mimetype": "text/x-python",
   "name": "python",
   "nbconvert_exporter": "python",
   "pygments_lexer": "ipython3",
   "version": "3.10.16"
  }
 },
 "nbformat": 4,
 "nbformat_minor": 2
}
